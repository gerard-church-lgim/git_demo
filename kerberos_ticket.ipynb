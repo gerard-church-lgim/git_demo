!kinit -k -t "/mnt/kerberos/a-sc99902.keytab" a-sc99902@DATASERVICES.PROD.LGIM.COM
